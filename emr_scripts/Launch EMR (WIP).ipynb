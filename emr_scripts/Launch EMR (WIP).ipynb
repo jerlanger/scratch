{
 "cells": [
  {
   "cell_type": "code",
   "execution_count": 35,
   "metadata": {},
   "outputs": [
    {
     "name": "stdout",
     "output_type": "stream",
     "text": [
      "Connection to EMR successful\n",
      "Initiating cluster...\n",
      "Cluster initiation success: j-PXNZ20SB3X13\n"
     ]
    }
   ],
   "source": [
    "def initiate_cluster(cname=\"JE-Test\"):\n",
    "    import boto3\n",
    "    from datetime import datetime\n",
    "    import json\n",
    "    import sys\n",
    "    \n",
    "    sys.path.append(\"/Users/josepherlanger/github/je_scripts/github_scripts/scratch/local\")\n",
    "    import sconfig\n",
    "    \n",
    "    with open('config_jsons/basic_config.json') as conf:\n",
    "        emrConf = json.load(conf)\n",
    "        \n",
    "    with open('config_jsons/basic_bootstrap.json') as boot:\n",
    "        bootstrapConf = json.load(boot)\n",
    "        \n",
    "    with open('config_jsons/basic_app.json') as app:\n",
    "        appConf = json.load(app)\n",
    "    \n",
    "    connection = boto3.client('emr',\n",
    "                              region_name='us-east-1',\n",
    "                              aws_access_key_id=sconfig.cph_access_key,\n",
    "                              aws_secret_access_key=sconfig.cph_secret_key\n",
    "                             )\n",
    "    print('Connection to EMR successful')    \n",
    "    \n",
    "    print('Initiating cluster...')\n",
    "    cluster = connection.run_job_flow(Name=cname,\n",
    "                                        LogUri='s3n://debug-dwh-liveintent-com/emr-debug-logs/%s/' %(cname),\n",
    "                                        ReleaseLabel='emr-5.20.0',\n",
    "                                        VisibleToAllUsers=True,\n",
    "                                        EbsRootVolumeSize=10,\n",
    "                                        ScaleDownBehavior='TERMINATE_AT_TASK_COMPLETION',\n",
    "                                        JobFlowRole='EMR_EC2_DefaultRole',\n",
    "                                        ServiceRole='EMR_DefaultRole',\n",
    "                                        Tags=[\n",
    "                                             {\n",
    "                                                 'Key': 'Name',\n",
    "                                                 'Value': cname,\n",
    "                                             },\n",
    "                                             {\n",
    "                                                 'Key': 'cost-center',\n",
    "                                                 'Value': 'JE'\n",
    "                                             },\n",
    "                                         ],\n",
    "                                        Applications=appConf,\n",
    "                                        Instances={\n",
    "                                            'InstanceFleets': [\n",
    "                                                {\n",
    "                                                    'Name': 'Master',\n",
    "                                                    'InstanceFleetType': 'MASTER',\n",
    "                                                    'TargetOnDemandCapacity': 0,\n",
    "                                                    'TargetSpotCapacity': 1,\n",
    "                                                    'InstanceTypeConfigs': [\n",
    "                                                        {\n",
    "                                                            'InstanceType': 'm3.xlarge',\n",
    "                                                            'BidPriceAsPercentageOfOnDemandPrice': 100.0,\n",
    "                                                        }\n",
    "                                                    ],\n",
    "                                                    'LaunchSpecifications': {\n",
    "                                                        'SpotSpecification': {\n",
    "                                                            'TimeoutDurationMinutes': 60,\n",
    "                                                            'TimeoutAction': 'TERMINATE_CLUSTER',\n",
    "                                                        }\n",
    "                                                    }\n",
    "                                                },\n",
    "                                                {\n",
    "                                                    'Name': 'Core',\n",
    "                                                    'InstanceFleetType': 'CORE',\n",
    "                                                    'TargetOnDemandCapacity': 0,\n",
    "                                                    'TargetSpotCapacity': 1,\n",
    "                                                    'InstanceTypeConfigs': [\n",
    "                                                        {\n",
    "                                                            'InstanceType': 'i2.xlarge',\n",
    "                                                            'BidPriceAsPercentageOfOnDemandPrice': 100.0,\n",
    "                                                        }\n",
    "                                                    ],\n",
    "                                                    'LaunchSpecifications': {\n",
    "                                                        'SpotSpecification': {\n",
    "                                                            'TimeoutDurationMinutes': 60,\n",
    "                                                            'TimeoutAction': 'TERMINATE_CLUSTER',\n",
    "                                                        }\n",
    "                                                    }\n",
    "                                                }\n",
    "                                            ],\n",
    "                                            'Ec2KeyName': 'airflow',\n",
    "                                            'Ec2SubnetId': 'subnet-badaee95',\n",
    "                                            'EmrManagedMasterSecurityGroup': 'sg-21078352',\n",
    "                                            'EmrManagedSlaveSecurityGroup': 'sg-32048041',\n",
    "                                            'KeepJobFlowAliveWhenNoSteps': True\n",
    "                                        },\n",
    "                                         BootstrapActions=bootstrapConf,\n",
    "                                         Configurations=emrConf\n",
    "                                        )\n",
    "\n",
    "    job_flow_id = cluster['JobFlowId']\n",
    "    print(f'Cluster initiation success: {job_flow_id}')\n",
    "    \n",
    "test = initiate_cluster()"
   ]
  },
  {
   "cell_type": "code",
   "execution_count": 50,
   "metadata": {},
   "outputs": [],
   "source": [
    "class tf(object):\n",
    "    def __init__(self):\n",
    "        self.flow = None\n",
    "    def test_function(self):\n",
    "        self.flow = 'j-PXNZTest'\n",
    "\n",
    "test2 = tf()"
   ]
  },
  {
   "cell_type": "code",
   "execution_count": 51,
   "metadata": {},
   "outputs": [],
   "source": [
    "test2.test_function()"
   ]
  },
  {
   "cell_type": "code",
   "execution_count": 52,
   "metadata": {},
   "outputs": [
    {
     "data": {
      "text/plain": [
       "'j-PXNZTest'"
      ]
     },
     "execution_count": 52,
     "metadata": {},
     "output_type": "execute_result"
    }
   ],
   "source": [
    "test2.flow"
   ]
  },
  {
   "cell_type": "code",
   "execution_count": null,
   "metadata": {},
   "outputs": [],
   "source": []
  }
 ],
 "metadata": {
  "kernelspec": {
   "display_name": "Python 3",
   "language": "python",
   "name": "python3"
  },
  "language_info": {
   "codemirror_mode": {
    "name": "ipython",
    "version": 3
   },
   "file_extension": ".py",
   "mimetype": "text/x-python",
   "name": "python",
   "nbconvert_exporter": "python",
   "pygments_lexer": "ipython3",
   "version": "3.7.3"
  }
 },
 "nbformat": 4,
 "nbformat_minor": 2
}
